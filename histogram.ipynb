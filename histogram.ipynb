{
 "cells": [
  {
   "cell_type": "code",
   "execution_count": 20,
   "metadata": {},
   "outputs": [],
   "source": [
    "import numpy as np\n",
    "import matplotlib.pyplot as plt\n",
    "import os\n",
    "import cv2\n"
   ]
  },
  {
   "cell_type": "code",
   "execution_count": 25,
   "metadata": {},
   "outputs": [
    {
     "name": "stdout",
     "output_type": "stream",
     "text": [
      "(array([[87906., 13935.,  7983.],\n",
      "       [83544., 13260., 13020.],\n",
      "       [87738., 13998.,  8088.],\n",
      "       [83925., 12918., 12981.],\n",
      "       [87411., 14295.,  8118.],\n",
      "       [84240., 12378., 13206.],\n",
      "       [85716., 12714., 11394.],\n",
      "       [84816., 12834., 12174.]]), array([  0.,  85., 170., 255.]), <a list of 8 BarContainer objects>)\n"
     ]
    },
    {
     "data": {
      "image/png": "[encoded data removed]",
      "text/plain": [
       "<Figure size 432x288 with 1 Axes>"
      ]
     },
     "metadata": {
      "needs_background": "light"
     },
     "output_type": "display_data"
    }
   ],
   "source": [
    "img = cv2.imread(r\"C:\\Users\\USER\\Desktop\\our project\\axial - 8 slices\\Alzheimer_s Dataset\\train\\ModerateDemented\\moderateDem0.jpg\",0)\n",
    "img = cv2.cvtColor(img,cv2.COLOR_BGR2RGB)\n",
    "cv2.ellipse(img,(87,100),(40,60),0,0,360,(0,0,0),-1)\n",
    "\n",
    "img1 = cv2.imread(r\"C:\\Users\\USER\\Desktop\\our project\\axial - 8 slices\\Alzheimer_s Dataset\\train\\ModerateDemented\\moderateDem1.jpg\",0)\n",
    "img1 = cv2.cvtColor(img1,cv2.COLOR_BGR2RGB)\n",
    "cv2.ellipse(img1,(87,100),(40,60),0,0,360,(0,0,0),-1)\n",
    "\n",
    "img2 = cv2.imread(r\"C:\\Users\\USER\\Desktop\\our project\\axial - 8 slices\\Alzheimer_s Dataset\\train\\ModerateDemented\\moderateDem2.jpg\",0)\n",
    "img2 = cv2.cvtColor(img2,cv2.COLOR_BGR2RGB)\n",
    "cv2.ellipse(img2,(87,100),(40,60),0,0,360,(0,0,0),-1)\n",
    "\n",
    "img3 = cv2.imread(r\"C:\\Users\\USER\\Desktop\\our project\\axial - 8 slices\\Alzheimer_s Dataset\\train\\ModerateDemented\\moderateDem3.jpg\",0)\n",
    "img3 = cv2.cvtColor(img3,cv2.COLOR_BGR2RGB)\n",
    "cv2.ellipse(img3,(87,100),(40,60),0,0,360,(0,0,0),-1)\n",
    "\n",
    "img4 = cv2.imread(r\"C:\\Users\\USER\\Desktop\\our project\\axial - 8 slices\\Alzheimer_s Dataset\\train\\ModerateDemented\\moderateDem4.jpg\",0)\n",
    "img4 = cv2.cvtColor(img4,cv2.COLOR_BGR2RGB)\n",
    "cv2.ellipse(img4,(87,100),(40,60),0,0,360,(0,0,0),-1)\n",
    "\n",
    "img5 = cv2.imread(r\"C:\\Users\\USER\\Desktop\\our project\\axial - 8 slices\\Alzheimer_s Dataset\\train\\ModerateDemented\\moderateDem5.jpg\",0)\n",
    "img5 = cv2.cvtColor(img5,cv2.COLOR_BGR2RGB)\n",
    "cv2.ellipse(img5,(87,100),(40,60),0,0,360,(0,0,0),-1)\n",
    "\n",
    "img6 = cv2.imread(r\"C:\\Users\\USER\\Desktop\\our project\\axial - 8 slices\\Alzheimer_s Dataset\\train\\ModerateDemented\\moderateDem6.jpg\",0)\n",
    "img6 = cv2.cvtColor(img6,cv2.COLOR_BGR2RGB)\n",
    "cv2.ellipse(img6,(87,100),(40,60),0,0,360,(0,0,0),-1)\n",
    "\n",
    "img7 = cv2.imread(r\"C:\\Users\\USER\\Desktop\\our project\\axial - 8 slices\\Alzheimer_s Dataset\\train\\ModerateDemented\\moderateDem7.jpg\",0)\n",
    "img7 = cv2.cvtColor(img7,cv2.COLOR_BGR2RGB)\n",
    "cv2.ellipse(img7,(87,100),(40,60),0,0,360,(0,0,0),-1)\n",
    "(n1)=plt.hist([img.ravel(),img1.ravel(),img2.ravel(),img3.ravel(),img4.ravel(),img5.ravel(),img6.ravel(),img7.ravel()],bins=3)\n",
    "print(n1)\n",
    "\n",
    "\n",
    "#plt.hist(img1.ravel()); \n",
    "\n",
    "plt.show()"
   ]
  },
  {
   "cell_type": "code",
   "execution_count": 24,
   "metadata": {},
   "outputs": [
    {
     "name": "stdout",
     "output_type": "stream",
     "text": [
      "(array([[80910., 15846., 13068.],\n",
      "       [80910., 15846., 13068.],\n",
      "       [80544., 13803., 15477.],\n",
      "       [80910., 15846., 13068.]]), array([  0.        ,  84.33333333, 168.66666667, 253.        ]), <a list of 4 BarContainer objects>)\n"
     ]
    },
    {
     "data": {
      "image/png": "[encoded data removed]",
      "text/plain": [
       "<Figure size 432x288 with 1 Axes>"
      ]
     },
     "metadata": {
      "needs_background": "light"
     },
     "output_type": "display_data"
    }
   ],
   "source": [
    "img = cv2.imread(r\"C:\\Users\\USER\\Desktop\\our project\\axial - 8 slices\\Alzheimer_s Dataset\\train\\NonDemented\\nonDem3.jpg\",0)\n",
    "img = cv2.cvtColor(img,cv2.COLOR_BGR2RGB)\n",
    "cv2.ellipse(img,(87,100),(40,60),0,0,360,(0,0,0),-1)\n",
    "\n",
    "img11 = cv2.imread(r\"C:\\Users\\USER\\Desktop\\our project\\axial - 8 slices\\Alzheimer_s Dataset\\train\\NonDemented\\nonDem5.jpg\",0)\n",
    "img11 = cv2.cvtColor(img,cv2.COLOR_BGR2RGB)\n",
    "cv2.ellipse(img11,(87,100),(40,60),0,0,360,(0,0,0),-1)\n",
    "\n",
    "img22 = cv2.imread(r\"C:\\Users\\USER\\Desktop\\our project\\axial - 8 slices\\Alzheimer_s Dataset\\train\\NonDemented\\nonDem82.jpg\",0)\n",
    "img22 = cv2.cvtColor(img22,cv2.COLOR_BGR2RGB)\n",
    "cv2.ellipse(img22,(87,100),(40,60),0,0,360,(0,0,0),-1)\n",
    "\n",
    "img33 = cv2.imread(r\"C:\\Users\\USER\\Desktop\\our project\\axial - 8 slices\\Alzheimer_s Dataset\\train\\NonDemented\\nonDem85.jpg\",0)\n",
    "img33 = cv2.cvtColor(img,cv2.COLOR_BGR2RGB)\n",
    "cv2.ellipse(img33,(87,100),(40,60),0,0,360,(0,0,0),-1)\n",
    "\n",
    "img44 = cv2.imread(r\"C:\\Users\\USER\\Desktop\\our project\\axial - 8 slices\\Alzheimer_s Dataset\\train\\NonDemented\\nonDem3.jpg\",0)\n",
    "img44 = cv2.cvtColor(img44,cv2.COLOR_BGR2RGB)\n",
    "cv2.ellipse(img44,(87,100),(40,60),0,0,360,(0,0,0),-1)\n",
    "\n",
    "img55 = cv2.imread(r\"C:\\Users\\USER\\Desktop\\our project\\axial - 8 slices\\Alzheimer_s Dataset\\train\\NonDemented\\nonDem15.jpg\",0)\n",
    "img55 = cv2.cvtColor(img55,cv2.COLOR_BGR2RGB)\n",
    "cv2.ellipse(img55,(87,100),(40,60),0,0,360,(0,0,0),-1)\n",
    "\n",
    "img22 = cv2.imread(r\"C:\\Users\\USER\\Desktop\\our project\\axial - 8 slices\\Alzheimer_s Dataset\\train\\NonDemented\\nonDem82.jpg\",0)\n",
    "img22 = cv2.cvtColor(img22,cv2.COLOR_BGR2RGB)\n",
    "cv2.ellipse(img22,(87,100),(40,60),0,0,360,(0,0,0),-1)\n",
    "\n",
    "img33 = cv2.imread(r\"C:\\Users\\USER\\Desktop\\our project\\axial - 8 slices\\Alzheimer_s Dataset\\train\\NonDemented\\nonDem85.jpg\",0)\n",
    "img33 = cv2.cvtColor(img,cv2.COLOR_BGR2RGB)\n",
    "cv2.ellipse(img33,(87,100),(40,60),0,0,360,(0,0,0),-1)\n",
    "\n",
    "(n2)=plt.hist([img.ravel(),img11.ravel(),img22.ravel(),img33.ravel()],bins=3)\n",
    "print(n2)\n",
    "#plt.hist(img1.ravel()); \n",
    "\n",
    "plt.show()"
   ]
  },
  {
   "cell_type": "code",
   "execution_count": 18,
   "metadata": {},
   "outputs": [
    {
     "name": "stdout",
     "output_type": "stream",
     "text": [
      "(array([[87738., 13998.,  8088.],\n",
      "       [87411., 14295.,  8118.]]), array([  0.,  85., 170., 255.]), <a list of 2 BarContainer objects>)\n"
     ]
    },
    {
     "data": {
      "image/png": "[encoded data removed]",
      "text/plain": [
       "<Figure size 432x288 with 1 Axes>"
      ]
     },
     "metadata": {
      "needs_background": "light"
     },
     "output_type": "display_data"
    }
   ],
   "source": [
    "img = cv2.imread(r\"C:\\Users\\USER\\Desktop\\our project\\axial - 8 slices\\Alzheimer_s Dataset\\train\\ModerateDemented\\moderateDem2.jpg\",0)\n",
    "img = cv2.cvtColor(img,cv2.COLOR_BGR2RGB)\n",
    "cv2.ellipse(img,(87,100),(40,60),0,0,360,(0,0,0),-1)\n",
    "\n",
    "img1 = cv2.imread(r\"C:\\Users\\USER\\Desktop\\our project\\axial - 8 slices\\Alzheimer_s Dataset\\train\\ModerateDemented\\moderateDem4.jpg\",0)\n",
    "img1 = cv2.cvtColor(img1,cv2.COLOR_BGR2RGB)\n",
    "cv2.ellipse(img1,(87,100),(40,60),0,0,360,(0,0,0),-1)\n",
    "\n",
    "\n",
    "\n",
    "(n3)=plt.hist([img.ravel(),img1.ravel()],bins=3)\n",
    "#plt.hist(img1.ravel()); \n",
    "print(n3)\n",
    "plt.show()\n"
   ]
  },
  {
   "cell_type": "code",
   "execution_count": null,
   "metadata": {},
   "outputs": [],
   "source": []
  },
  {
   "cell_type": "code",
   "execution_count": null,
   "metadata": {},
   "outputs": [],
   "source": []
  }
 ],
 "metadata": {
  "kernelspec": {
   "display_name": "Python 3",
   "language": "python",
   "name": "python3"
  },
  "language_info": {
   "codemirror_mode": {
    "name": "ipython",
    "version": 3
   },
   "file_extension": ".py",
   "mimetype": "text/x-python",
   "name": "python",
   "nbconvert_exporter": "python",
   "pygments_lexer": "ipython3",
   "version": "3.8.5"
  }
 },
 "nbformat": 4,
 "nbformat_minor": 4
}
